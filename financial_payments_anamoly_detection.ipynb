{
  "nbformat": 4,
  "nbformat_minor": 0,
  "metadata": {
    "colab": {
      "provenance": []
    },
    "kernelspec": {
      "name": "python3",
      "display_name": "Python 3"
    },
    "language_info": {
      "name": "python"
    }
  },
  "cells": [
    {
      "cell_type": "code",
      "execution_count": 20,
      "metadata": {
        "colab": {
          "base_uri": "https://localhost:8080/",
          "height": 17
        },
        "id": "o8I9aQoGg-H4",
        "outputId": "4c3c92b2-82d5-42d0-ff51-b48a09ded87b"
      },
      "outputs": [
        {
          "output_type": "display_data",
          "data": {
            "text/html": [
              "        <script type=\"text/javascript\">\n",
              "        window.PlotlyConfig = {MathJaxConfig: 'local'};\n",
              "        if (window.MathJax && window.MathJax.Hub && window.MathJax.Hub.Config) {window.MathJax.Hub.Config({SVG: {font: \"STIX-Web\"}});}\n",
              "        if (typeof require !== 'undefined') {\n",
              "        require.undef(\"plotly\");\n",
              "        requirejs.config({\n",
              "            paths: {\n",
              "                'plotly': ['https://cdn.plot.ly/plotly-2.24.1.min']\n",
              "            }\n",
              "        });\n",
              "        require(['plotly'], function(Plotly) {\n",
              "            window._Plotly = Plotly;\n",
              "        });\n",
              "        }\n",
              "        </script>\n",
              "        "
            ]
          },
          "metadata": {}
        }
      ],
      "source": [
        "import numpy as np\n",
        "import pandas as pd\n",
        "import os\n",
        "import matplotlib\n",
        "import matplotlib.pyplot as plt\n",
        "from tqdm import tqdm_notebook\n",
        "import seaborn as sns\n",
        "%matplotlib inline\n",
        "import plotly.graph_objs as go\n",
        "import plotly.figure_factory as ff\n",
        "from plotly import tools\n",
        "from plotly.offline import download_plotlyjs, init_notebook_mode, plot, iplot\n",
        "init_notebook_mode(connected=True)\n",
        "\n",
        "# Necessary imports\n",
        "\n",
        "## Data loading, processing and for more\n",
        "import pandas as pd\n",
        "import numpy as np\n",
        "from imblearn.over_sampling import SMOTE\n",
        "\n",
        "## Visualization\n",
        "import seaborn as sns\n",
        "import matplotlib.pyplot as plt\n",
        "# set seaborn style because it prettier\n",
        "sns.set()\n",
        "\n",
        "## Metrics\n",
        "from sklearn.model_selection import train_test_split\n",
        "from sklearn.metrics import confusion_matrix, classification_report\n",
        "from sklearn.metrics import roc_curve, auc\n",
        "\n",
        "## Models\n",
        "import xgboost as xgb\n",
        "from sklearn.neighbors import KNeighborsClassifier\n",
        "from sklearn.ensemble import RandomForestClassifier\n",
        "from sklearn.ensemble import VotingClassifier"
      ]
    },
    {
      "cell_type": "code",
      "source": [
        "from google.colab import drive\n",
        "drive.mount('/content/drive')\n"
      ],
      "metadata": {
        "colab": {
          "base_uri": "https://localhost:8080/"
        },
        "id": "V5wDhFRZi94h",
        "outputId": "6f2fd696-7aee-4265-b4eb-3d17264f9828"
      },
      "execution_count": 21,
      "outputs": [
        {
          "output_type": "stream",
          "name": "stdout",
          "text": [
            "Drive already mounted at /content/drive; to attempt to forcibly remount, call drive.mount(\"/content/drive\", force_remount=True).\n"
          ]
        }
      ]
    },
    {
      "cell_type": "code",
      "source": [
        "\n",
        "data = pd.read_csv(\"/content/drive/MyDrive/data/bs140513_032310.csv\")\n",
        "data.head(5)"
      ],
      "metadata": {
        "colab": {
          "base_uri": "https://localhost:8080/",
          "height": 206
        },
        "id": "LbiSYXPikGpS",
        "outputId": "97fc2717-6112-4fb5-b53c-af554edab9b9"
      },
      "execution_count": 22,
      "outputs": [
        {
          "output_type": "execute_result",
          "data": {
            "text/plain": [
              "   step       customer  age gender zipcodeOri       merchant zipMerchant  \\\n",
              "0     0  'C1093826151'  '4'    'M'    '28007'   'M348934600'     '28007'   \n",
              "1     0   'C352968107'  '2'    'M'    '28007'   'M348934600'     '28007'   \n",
              "2     0  'C2054744914'  '4'    'F'    '28007'  'M1823072687'     '28007'   \n",
              "3     0  'C1760612790'  '3'    'M'    '28007'   'M348934600'     '28007'   \n",
              "4     0   'C757503768'  '5'    'M'    '28007'   'M348934600'     '28007'   \n",
              "\n",
              "              category  amount  fraud  \n",
              "0  'es_transportation'    4.55      0  \n",
              "1  'es_transportation'   39.68      0  \n",
              "2  'es_transportation'   26.89      0  \n",
              "3  'es_transportation'   17.25      0  \n",
              "4  'es_transportation'   35.72      0  "
            ],
            "text/html": [
              "\n",
              "  <div id=\"df-c5a0ad63-6d1c-4de3-9d67-1957bdda3dd3\" class=\"colab-df-container\">\n",
              "    <div>\n",
              "<style scoped>\n",
              "    .dataframe tbody tr th:only-of-type {\n",
              "        vertical-align: middle;\n",
              "    }\n",
              "\n",
              "    .dataframe tbody tr th {\n",
              "        vertical-align: top;\n",
              "    }\n",
              "\n",
              "    .dataframe thead th {\n",
              "        text-align: right;\n",
              "    }\n",
              "</style>\n",
              "<table border=\"1\" class=\"dataframe\">\n",
              "  <thead>\n",
              "    <tr style=\"text-align: right;\">\n",
              "      <th></th>\n",
              "      <th>step</th>\n",
              "      <th>customer</th>\n",
              "      <th>age</th>\n",
              "      <th>gender</th>\n",
              "      <th>zipcodeOri</th>\n",
              "      <th>merchant</th>\n",
              "      <th>zipMerchant</th>\n",
              "      <th>category</th>\n",
              "      <th>amount</th>\n",
              "      <th>fraud</th>\n",
              "    </tr>\n",
              "  </thead>\n",
              "  <tbody>\n",
              "    <tr>\n",
              "      <th>0</th>\n",
              "      <td>0</td>\n",
              "      <td>'C1093826151'</td>\n",
              "      <td>'4'</td>\n",
              "      <td>'M'</td>\n",
              "      <td>'28007'</td>\n",
              "      <td>'M348934600'</td>\n",
              "      <td>'28007'</td>\n",
              "      <td>'es_transportation'</td>\n",
              "      <td>4.55</td>\n",
              "      <td>0</td>\n",
              "    </tr>\n",
              "    <tr>\n",
              "      <th>1</th>\n",
              "      <td>0</td>\n",
              "      <td>'C352968107'</td>\n",
              "      <td>'2'</td>\n",
              "      <td>'M'</td>\n",
              "      <td>'28007'</td>\n",
              "      <td>'M348934600'</td>\n",
              "      <td>'28007'</td>\n",
              "      <td>'es_transportation'</td>\n",
              "      <td>39.68</td>\n",
              "      <td>0</td>\n",
              "    </tr>\n",
              "    <tr>\n",
              "      <th>2</th>\n",
              "      <td>0</td>\n",
              "      <td>'C2054744914'</td>\n",
              "      <td>'4'</td>\n",
              "      <td>'F'</td>\n",
              "      <td>'28007'</td>\n",
              "      <td>'M1823072687'</td>\n",
              "      <td>'28007'</td>\n",
              "      <td>'es_transportation'</td>\n",
              "      <td>26.89</td>\n",
              "      <td>0</td>\n",
              "    </tr>\n",
              "    <tr>\n",
              "      <th>3</th>\n",
              "      <td>0</td>\n",
              "      <td>'C1760612790'</td>\n",
              "      <td>'3'</td>\n",
              "      <td>'M'</td>\n",
              "      <td>'28007'</td>\n",
              "      <td>'M348934600'</td>\n",
              "      <td>'28007'</td>\n",
              "      <td>'es_transportation'</td>\n",
              "      <td>17.25</td>\n",
              "      <td>0</td>\n",
              "    </tr>\n",
              "    <tr>\n",
              "      <th>4</th>\n",
              "      <td>0</td>\n",
              "      <td>'C757503768'</td>\n",
              "      <td>'5'</td>\n",
              "      <td>'M'</td>\n",
              "      <td>'28007'</td>\n",
              "      <td>'M348934600'</td>\n",
              "      <td>'28007'</td>\n",
              "      <td>'es_transportation'</td>\n",
              "      <td>35.72</td>\n",
              "      <td>0</td>\n",
              "    </tr>\n",
              "  </tbody>\n",
              "</table>\n",
              "</div>\n",
              "    <div class=\"colab-df-buttons\">\n",
              "\n",
              "  <div class=\"colab-df-container\">\n",
              "    <button class=\"colab-df-convert\" onclick=\"convertToInteractive('df-c5a0ad63-6d1c-4de3-9d67-1957bdda3dd3')\"\n",
              "            title=\"Convert this dataframe to an interactive table.\"\n",
              "            style=\"display:none;\">\n",
              "\n",
              "  <svg xmlns=\"http://www.w3.org/2000/svg\" height=\"24px\" viewBox=\"0 -960 960 960\">\n",
              "    <path d=\"M120-120v-720h720v720H120Zm60-500h600v-160H180v160Zm220 220h160v-160H400v160Zm0 220h160v-160H400v160ZM180-400h160v-160H180v160Zm440 0h160v-160H620v160ZM180-180h160v-160H180v160Zm440 0h160v-160H620v160Z\"/>\n",
              "  </svg>\n",
              "    </button>\n",
              "\n",
              "  <style>\n",
              "    .colab-df-container {\n",
              "      display:flex;\n",
              "      gap: 12px;\n",
              "    }\n",
              "\n",
              "    .colab-df-convert {\n",
              "      background-color: #E8F0FE;\n",
              "      border: none;\n",
              "      border-radius: 50%;\n",
              "      cursor: pointer;\n",
              "      display: none;\n",
              "      fill: #1967D2;\n",
              "      height: 32px;\n",
              "      padding: 0 0 0 0;\n",
              "      width: 32px;\n",
              "    }\n",
              "\n",
              "    .colab-df-convert:hover {\n",
              "      background-color: #E2EBFA;\n",
              "      box-shadow: 0px 1px 2px rgba(60, 64, 67, 0.3), 0px 1px 3px 1px rgba(60, 64, 67, 0.15);\n",
              "      fill: #174EA6;\n",
              "    }\n",
              "\n",
              "    .colab-df-buttons div {\n",
              "      margin-bottom: 4px;\n",
              "    }\n",
              "\n",
              "    [theme=dark] .colab-df-convert {\n",
              "      background-color: #3B4455;\n",
              "      fill: #D2E3FC;\n",
              "    }\n",
              "\n",
              "    [theme=dark] .colab-df-convert:hover {\n",
              "      background-color: #434B5C;\n",
              "      box-shadow: 0px 1px 3px 1px rgba(0, 0, 0, 0.15);\n",
              "      filter: drop-shadow(0px 1px 2px rgba(0, 0, 0, 0.3));\n",
              "      fill: #FFFFFF;\n",
              "    }\n",
              "  </style>\n",
              "\n",
              "    <script>\n",
              "      const buttonEl =\n",
              "        document.querySelector('#df-c5a0ad63-6d1c-4de3-9d67-1957bdda3dd3 button.colab-df-convert');\n",
              "      buttonEl.style.display =\n",
              "        google.colab.kernel.accessAllowed ? 'block' : 'none';\n",
              "\n",
              "      async function convertToInteractive(key) {\n",
              "        const element = document.querySelector('#df-c5a0ad63-6d1c-4de3-9d67-1957bdda3dd3');\n",
              "        const dataTable =\n",
              "          await google.colab.kernel.invokeFunction('convertToInteractive',\n",
              "                                                    [key], {});\n",
              "        if (!dataTable) return;\n",
              "\n",
              "        const docLinkHtml = 'Like what you see? Visit the ' +\n",
              "          '<a target=\"_blank\" href=https://colab.research.google.com/notebooks/data_table.ipynb>data table notebook</a>'\n",
              "          + ' to learn more about interactive tables.';\n",
              "        element.innerHTML = '';\n",
              "        dataTable['output_type'] = 'display_data';\n",
              "        await google.colab.output.renderOutput(dataTable, element);\n",
              "        const docLink = document.createElement('div');\n",
              "        docLink.innerHTML = docLinkHtml;\n",
              "        element.appendChild(docLink);\n",
              "      }\n",
              "    </script>\n",
              "  </div>\n",
              "\n",
              "\n",
              "<div id=\"df-09b68d70-c1f3-4ec0-86e2-84214a89d8a4\">\n",
              "  <button class=\"colab-df-quickchart\" onclick=\"quickchart('df-09b68d70-c1f3-4ec0-86e2-84214a89d8a4')\"\n",
              "            title=\"Suggest charts\"\n",
              "            style=\"display:none;\">\n",
              "\n",
              "<svg xmlns=\"http://www.w3.org/2000/svg\" height=\"24px\"viewBox=\"0 0 24 24\"\n",
              "     width=\"24px\">\n",
              "    <g>\n",
              "        <path d=\"M19 3H5c-1.1 0-2 .9-2 2v14c0 1.1.9 2 2 2h14c1.1 0 2-.9 2-2V5c0-1.1-.9-2-2-2zM9 17H7v-7h2v7zm4 0h-2V7h2v10zm4 0h-2v-4h2v4z\"/>\n",
              "    </g>\n",
              "</svg>\n",
              "  </button>\n",
              "\n",
              "<style>\n",
              "  .colab-df-quickchart {\n",
              "      --bg-color: #E8F0FE;\n",
              "      --fill-color: #1967D2;\n",
              "      --hover-bg-color: #E2EBFA;\n",
              "      --hover-fill-color: #174EA6;\n",
              "      --disabled-fill-color: #AAA;\n",
              "      --disabled-bg-color: #DDD;\n",
              "  }\n",
              "\n",
              "  [theme=dark] .colab-df-quickchart {\n",
              "      --bg-color: #3B4455;\n",
              "      --fill-color: #D2E3FC;\n",
              "      --hover-bg-color: #434B5C;\n",
              "      --hover-fill-color: #FFFFFF;\n",
              "      --disabled-bg-color: #3B4455;\n",
              "      --disabled-fill-color: #666;\n",
              "  }\n",
              "\n",
              "  .colab-df-quickchart {\n",
              "    background-color: var(--bg-color);\n",
              "    border: none;\n",
              "    border-radius: 50%;\n",
              "    cursor: pointer;\n",
              "    display: none;\n",
              "    fill: var(--fill-color);\n",
              "    height: 32px;\n",
              "    padding: 0;\n",
              "    width: 32px;\n",
              "  }\n",
              "\n",
              "  .colab-df-quickchart:hover {\n",
              "    background-color: var(--hover-bg-color);\n",
              "    box-shadow: 0 1px 2px rgba(60, 64, 67, 0.3), 0 1px 3px 1px rgba(60, 64, 67, 0.15);\n",
              "    fill: var(--button-hover-fill-color);\n",
              "  }\n",
              "\n",
              "  .colab-df-quickchart-complete:disabled,\n",
              "  .colab-df-quickchart-complete:disabled:hover {\n",
              "    background-color: var(--disabled-bg-color);\n",
              "    fill: var(--disabled-fill-color);\n",
              "    box-shadow: none;\n",
              "  }\n",
              "\n",
              "  .colab-df-spinner {\n",
              "    border: 2px solid var(--fill-color);\n",
              "    border-color: transparent;\n",
              "    border-bottom-color: var(--fill-color);\n",
              "    animation:\n",
              "      spin 1s steps(1) infinite;\n",
              "  }\n",
              "\n",
              "  @keyframes spin {\n",
              "    0% {\n",
              "      border-color: transparent;\n",
              "      border-bottom-color: var(--fill-color);\n",
              "      border-left-color: var(--fill-color);\n",
              "    }\n",
              "    20% {\n",
              "      border-color: transparent;\n",
              "      border-left-color: var(--fill-color);\n",
              "      border-top-color: var(--fill-color);\n",
              "    }\n",
              "    30% {\n",
              "      border-color: transparent;\n",
              "      border-left-color: var(--fill-color);\n",
              "      border-top-color: var(--fill-color);\n",
              "      border-right-color: var(--fill-color);\n",
              "    }\n",
              "    40% {\n",
              "      border-color: transparent;\n",
              "      border-right-color: var(--fill-color);\n",
              "      border-top-color: var(--fill-color);\n",
              "    }\n",
              "    60% {\n",
              "      border-color: transparent;\n",
              "      border-right-color: var(--fill-color);\n",
              "    }\n",
              "    80% {\n",
              "      border-color: transparent;\n",
              "      border-right-color: var(--fill-color);\n",
              "      border-bottom-color: var(--fill-color);\n",
              "    }\n",
              "    90% {\n",
              "      border-color: transparent;\n",
              "      border-bottom-color: var(--fill-color);\n",
              "    }\n",
              "  }\n",
              "</style>\n",
              "\n",
              "  <script>\n",
              "    async function quickchart(key) {\n",
              "      const quickchartButtonEl =\n",
              "        document.querySelector('#' + key + ' button');\n",
              "      quickchartButtonEl.disabled = true;  // To prevent multiple clicks.\n",
              "      quickchartButtonEl.classList.add('colab-df-spinner');\n",
              "      try {\n",
              "        const charts = await google.colab.kernel.invokeFunction(\n",
              "            'suggestCharts', [key], {});\n",
              "      } catch (error) {\n",
              "        console.error('Error during call to suggestCharts:', error);\n",
              "      }\n",
              "      quickchartButtonEl.classList.remove('colab-df-spinner');\n",
              "      quickchartButtonEl.classList.add('colab-df-quickchart-complete');\n",
              "    }\n",
              "    (() => {\n",
              "      let quickchartButtonEl =\n",
              "        document.querySelector('#df-09b68d70-c1f3-4ec0-86e2-84214a89d8a4 button');\n",
              "      quickchartButtonEl.style.display =\n",
              "        google.colab.kernel.accessAllowed ? 'block' : 'none';\n",
              "    })();\n",
              "  </script>\n",
              "</div>\n",
              "    </div>\n",
              "  </div>\n"
            ]
          },
          "metadata": {},
          "execution_count": 22
        }
      ]
    },
    {
      "cell_type": "markdown",
      "source": [
        "# EDA"
      ],
      "metadata": {
        "id": "tIXWgIgG5SXg"
      }
    },
    {
      "cell_type": "code",
      "source": [
        "data.info()"
      ],
      "metadata": {
        "colab": {
          "base_uri": "https://localhost:8080/"
        },
        "id": "RfDOW3cOkXtm",
        "outputId": "de9e7b7b-39ac-45c0-af84-d89c7aa87ac1"
      },
      "execution_count": 23,
      "outputs": [
        {
          "output_type": "stream",
          "name": "stdout",
          "text": [
            "<class 'pandas.core.frame.DataFrame'>\n",
            "RangeIndex: 594643 entries, 0 to 594642\n",
            "Data columns (total 10 columns):\n",
            " #   Column       Non-Null Count   Dtype  \n",
            "---  ------       --------------   -----  \n",
            " 0   step         594643 non-null  int64  \n",
            " 1   customer     594643 non-null  object \n",
            " 2   age          594643 non-null  object \n",
            " 3   gender       594643 non-null  object \n",
            " 4   zipcodeOri   594643 non-null  object \n",
            " 5   merchant     594643 non-null  object \n",
            " 6   zipMerchant  594643 non-null  object \n",
            " 7   category     594643 non-null  object \n",
            " 8   amount       594643 non-null  float64\n",
            " 9   fraud        594643 non-null  int64  \n",
            "dtypes: float64(1), int64(2), object(7)\n",
            "memory usage: 45.4+ MB\n"
          ]
        }
      ]
    },
    {
      "cell_type": "code",
      "source": [
        "# Create two dataframes with fraud and non-fraud data\n",
        "df_fraud = data.loc[data.fraud == 1]\n",
        "df_non_fraud = data.loc[data.fraud == 0]\n",
        "\n",
        "sns.countplot(x=\"fraud\",data=data)\n",
        "plt.title(\"Count of Fraudulent Payments\")\n",
        "plt.show()\n",
        "print(\"Number of normal examples: \",df_non_fraud.fraud.count())\n",
        "print(\"Number of fradulent examples: \",df_fraud.fraud.count())\n",
        "#print(data.fraud.value_counts()) # does the same thing above"
      ],
      "metadata": {
        "colab": {
          "base_uri": "https://localhost:8080/",
          "height": 515
        },
        "id": "WY0-fAFe5D55",
        "outputId": "bf2e021a-160f-48ea-bdb2-428664f1488f"
      },
      "execution_count": 24,
      "outputs": [
        {
          "output_type": "display_data",
          "data": {
            "text/plain": [
              "<Figure size 640x480 with 1 Axes>"
            ],
            "image/png": "[encoded data removed]"
          },
          "metadata": {}
        },
        {
          "output_type": "stream",
          "name": "stdout",
          "text": [
            "Number of normal examples:  587443\n",
            "Number of fradulent examples:  7200\n"
          ]
        }
      ]
    },
    {
      "cell_type": "code",
      "source": [
        "print(\"Mean feature values per category\",data.groupby('category')['amount','fraud'].mean())"
      ],
      "metadata": {
        "colab": {
          "base_uri": "https://localhost:8080/"
        },
        "id": "sdO4lvL9kqF6",
        "outputId": "8b99498c-94ca-4490-9283-91ede0bf1a08"
      },
      "execution_count": 25,
      "outputs": [
        {
          "output_type": "stream",
          "name": "stdout",
          "text": [
            "Mean feature values per category                               amount     fraud\n",
            "category                                      \n",
            "'es_barsandrestaurants'    43.461014  0.018829\n",
            "'es_contents'              44.547571  0.000000\n",
            "'es_fashion'               65.666642  0.017973\n",
            "'es_food'                  37.070405  0.000000\n",
            "'es_health'               135.621367  0.105126\n",
            "'es_home'                 165.670846  0.152064\n",
            "'es_hotelservices'        205.614249  0.314220\n",
            "'es_hyper'                 45.970421  0.045917\n",
            "'es_leisure'              288.911303  0.949900\n",
            "'es_otherservices'        135.881524  0.250000\n",
            "'es_sportsandtoys'        215.715280  0.495252\n",
            "'es_tech'                 120.947937  0.066667\n",
            "'es_transportation'        26.958187  0.000000\n",
            "'es_travel'              2250.409190  0.793956\n",
            "'es_wellnessandbeauty'     65.511221  0.047594\n"
          ]
        },
        {
          "output_type": "stream",
          "name": "stderr",
          "text": [
            "<ipython-input-25-cc3083ece405>:1: FutureWarning:\n",
            "\n",
            "Indexing with multiple keys (implicitly converted to a tuple of keys) will be deprecated, use a list instead.\n",
            "\n"
          ]
        }
      ]
    },
    {
      "cell_type": "code",
      "source": [
        "# Create two dataframes with fraud and non-fraud data\n",
        "pd.concat([df_fraud.groupby('category')['amount'].mean(),df_non_fraud.groupby('category')['amount'].mean(),\\\n",
        "           data.groupby('category')['fraud'].mean()*100],keys=[\"Fraudulent\",\"Non-Fraudulent\",\"Percent(%)\"],axis=1,\\\n",
        "          sort=False).sort_values(by=['Non-Fraudulent'])"
      ],
      "metadata": {
        "colab": {
          "base_uri": "https://localhost:8080/",
          "height": 551
        },
        "id": "ffpIuhJr5Ji9",
        "outputId": "d3d8387f-d2c5-494c-ac10-86edd226def7"
      },
      "execution_count": 26,
      "outputs": [
        {
          "output_type": "execute_result",
          "data": {
            "text/plain": [
              "                          Fraudulent  Non-Fraudulent  Percent(%)\n",
              "category                                                        \n",
              "'es_transportation'              NaN       26.958187    0.000000\n",
              "'es_food'                        NaN       37.070405    0.000000\n",
              "'es_hyper'                169.255429       40.037145    4.591669\n",
              "'es_barsandrestaurants'   164.092667       41.145997    1.882944\n",
              "'es_contents'                    NaN       44.547571    0.000000\n",
              "'es_wellnessandbeauty'    229.422535       57.320219    4.759380\n",
              "'es_fashion'              247.008190       62.347674    1.797335\n",
              "'es_leisure'              300.286878       73.230400   94.989980\n",
              "'es_otherservices'        316.469605       75.685497   25.000000\n",
              "'es_sportsandtoys'        345.366811       88.502738   49.525237\n",
              "'es_tech'                 415.274114       99.924638    6.666667\n",
              "'es_health'               407.031338      103.737228   10.512614\n",
              "'es_hotelservices'        421.823339      106.548545   31.422018\n",
              "'es_home'                 457.484834      113.338409   15.206445\n",
              "'es_travel'              2660.802872      669.025533   79.395604"
            ],
            "text/html": [
              "\n",
              "  <div id=\"df-9df21b59-5fe3-4d49-9b21-b847bb1dd1db\" class=\"colab-df-container\">\n",
              "    <div>\n",
              "<style scoped>\n",
              "    .dataframe tbody tr th:only-of-type {\n",
              "        vertical-align: middle;\n",
              "    }\n",
              "\n",
              "    .dataframe tbody tr th {\n",
              "        vertical-align: top;\n",
              "    }\n",
              "\n",
              "    .dataframe thead th {\n",
              "        text-align: right;\n",
              "    }\n",
              "</style>\n",
              "<table border=\"1\" class=\"dataframe\">\n",
              "  <thead>\n",
              "    <tr style=\"text-align: right;\">\n",
              "      <th></th>\n",
              "      <th>Fraudulent</th>\n",
              "      <th>Non-Fraudulent</th>\n",
              "      <th>Percent(%)</th>\n",
              "    </tr>\n",
              "    <tr>\n",
              "      <th>category</th>\n",
              "      <th></th>\n",
              "      <th></th>\n",
              "      <th></th>\n",
              "    </tr>\n",
              "  </thead>\n",
              "  <tbody>\n",
              "    <tr>\n",
              "      <th>'es_transportation'</th>\n",
              "      <td>NaN</td>\n",
              "      <td>26.958187</td>\n",
              "      <td>0.000000</td>\n",
              "    </tr>\n",
              "    <tr>\n",
              "      <th>'es_food'</th>\n",
              "      <td>NaN</td>\n",
              "      <td>37.070405</td>\n",
              "      <td>0.000000</td>\n",
              "    </tr>\n",
              "    <tr>\n",
              "      <th>'es_hyper'</th>\n",
              "      <td>169.255429</td>\n",
              "      <td>40.037145</td>\n",
              "      <td>4.591669</td>\n",
              "    </tr>\n",
              "    <tr>\n",
              "      <th>'es_barsandrestaurants'</th>\n",
              "      <td>164.092667</td>\n",
              "      <td>41.145997</td>\n",
              "      <td>1.882944</td>\n",
              "    </tr>\n",
              "    <tr>\n",
              "      <th>'es_contents'</th>\n",
              "      <td>NaN</td>\n",
              "      <td>44.547571</td>\n",
              "      <td>0.000000</td>\n",
              "    </tr>\n",
              "    <tr>\n",
              "      <th>'es_wellnessandbeauty'</th>\n",
              "      <td>229.422535</td>\n",
              "      <td>57.320219</td>\n",
              "      <td>4.759380</td>\n",
              "    </tr>\n",
              "    <tr>\n",
              "      <th>'es_fashion'</th>\n",
              "      <td>247.008190</td>\n",
              "      <td>62.347674</td>\n",
              "      <td>1.797335</td>\n",
              "    </tr>\n",
              "    <tr>\n",
              "      <th>'es_leisure'</th>\n",
              "      <td>300.286878</td>\n",
              "      <td>73.230400</td>\n",
              "      <td>94.989980</td>\n",
              "    </tr>\n",
              "    <tr>\n",
              "      <th>'es_otherservices'</th>\n",
              "      <td>316.469605</td>\n",
              "      <td>75.685497</td>\n",
              "      <td>25.000000</td>\n",
              "    </tr>\n",
              "    <tr>\n",
              "      <th>'es_sportsandtoys'</th>\n",
              "      <td>345.366811</td>\n",
              "      <td>88.502738</td>\n",
              "      <td>49.525237</td>\n",
              "    </tr>\n",
              "    <tr>\n",
              "      <th>'es_tech'</th>\n",
              "      <td>415.274114</td>\n",
              "      <td>99.924638</td>\n",
              "      <td>6.666667</td>\n",
              "    </tr>\n",
              "    <tr>\n",
              "      <th>'es_health'</th>\n",
              "      <td>407.031338</td>\n",
              "      <td>103.737228</td>\n",
              "      <td>10.512614</td>\n",
              "    </tr>\n",
              "    <tr>\n",
              "      <th>'es_hotelservices'</th>\n",
              "      <td>421.823339</td>\n",
              "      <td>106.548545</td>\n",
              "      <td>31.422018</td>\n",
              "    </tr>\n",
              "    <tr>\n",
              "      <th>'es_home'</th>\n",
              "      <td>457.484834</td>\n",
              "      <td>113.338409</td>\n",
              "      <td>15.206445</td>\n",
              "    </tr>\n",
              "    <tr>\n",
              "      <th>'es_travel'</th>\n",
              "      <td>2660.802872</td>\n",
              "      <td>669.025533</td>\n",
              "      <td>79.395604</td>\n",
              "    </tr>\n",
              "  </tbody>\n",
              "</table>\n",
              "</div>\n",
              "    <div class=\"colab-df-buttons\">\n",
              "\n",
              "  <div class=\"colab-df-container\">\n",
              "    <button class=\"colab-df-convert\" onclick=\"convertToInteractive('df-9df21b59-5fe3-4d49-9b21-b847bb1dd1db')\"\n",
              "            title=\"Convert this dataframe to an interactive table.\"\n",
              "            style=\"display:none;\">\n",
              "\n",
              "  <svg xmlns=\"http://www.w3.org/2000/svg\" height=\"24px\" viewBox=\"0 -960 960 960\">\n",
              "    <path d=\"M120-120v-720h720v720H120Zm60-500h600v-160H180v160Zm220 220h160v-160H400v160Zm0 220h160v-160H400v160ZM180-400h160v-160H180v160Zm440 0h160v-160H620v160ZM180-180h160v-160H180v160Zm440 0h160v-160H620v160Z\"/>\n",
              "  </svg>\n",
              "    </button>\n",
              "\n",
              "  <style>\n",
              "    .colab-df-container {\n",
              "      display:flex;\n",
              "      gap: 12px;\n",
              "    }\n",
              "\n",
              "    .colab-df-convert {\n",
              "      background-color: #E8F0FE;\n",
              "      border: none;\n",
              "      border-radius: 50%;\n",
              "      cursor: pointer;\n",
              "      display: none;\n",
              "      fill: #1967D2;\n",
              "      height: 32px;\n",
              "      padding: 0 0 0 0;\n",
              "      width: 32px;\n",
              "    }\n",
              "\n",
              "    .colab-df-convert:hover {\n",
              "      background-color: #E2EBFA;\n",
              "      box-shadow: 0px 1px 2px rgba(60, 64, 67, 0.3), 0px 1px 3px 1px rgba(60, 64, 67, 0.15);\n",
              "      fill: #174EA6;\n",
              "    }\n",
              "\n",
              "    .colab-df-buttons div {\n",
              "      margin-bottom: 4px;\n",
              "    }\n",
              "\n",
              "    [theme=dark] .colab-df-convert {\n",
              "      background-color: #3B4455;\n",
              "      fill: #D2E3FC;\n",
              "    }\n",
              "\n",
              "    [theme=dark] .colab-df-convert:hover {\n",
              "      background-color: #434B5C;\n",
              "      box-shadow: 0px 1px 3px 1px rgba(0, 0, 0, 0.15);\n",
              "      filter: drop-shadow(0px 1px 2px rgba(0, 0, 0, 0.3));\n",
              "      fill: #FFFFFF;\n",
              "    }\n",
              "  </style>\n",
              "\n",
              "    <script>\n",
              "      const buttonEl =\n",
              "        document.querySelector('#df-9df21b59-5fe3-4d49-9b21-b847bb1dd1db button.colab-df-convert');\n",
              "      buttonEl.style.display =\n",
              "        google.colab.kernel.accessAllowed ? 'block' : 'none';\n",
              "\n",
              "      async function convertToInteractive(key) {\n",
              "        const element = document.querySelector('#df-9df21b59-5fe3-4d49-9b21-b847bb1dd1db');\n",
              "        const dataTable =\n",
              "          await google.colab.kernel.invokeFunction('convertToInteractive',\n",
              "                                                    [key], {});\n",
              "        if (!dataTable) return;\n",
              "\n",
              "        const docLinkHtml = 'Like what you see? Visit the ' +\n",
              "          '<a target=\"_blank\" href=https://colab.research.google.com/notebooks/data_table.ipynb>data table notebook</a>'\n",
              "          + ' to learn more about interactive tables.';\n",
              "        element.innerHTML = '';\n",
              "        dataTable['output_type'] = 'display_data';\n",
              "        await google.colab.output.renderOutput(dataTable, element);\n",
              "        const docLink = document.createElement('div');\n",
              "        docLink.innerHTML = docLinkHtml;\n",
              "        element.appendChild(docLink);\n",
              "      }\n",
              "    </script>\n",
              "  </div>\n",
              "\n",
              "\n",
              "<div id=\"df-c82f356d-bcc3-48a4-acca-262ec2999b3c\">\n",
              "  <button class=\"colab-df-quickchart\" onclick=\"quickchart('df-c82f356d-bcc3-48a4-acca-262ec2999b3c')\"\n",
              "            title=\"Suggest charts\"\n",
              "            style=\"display:none;\">\n",
              "\n",
              "<svg xmlns=\"http://www.w3.org/2000/svg\" height=\"24px\"viewBox=\"0 0 24 24\"\n",
              "     width=\"24px\">\n",
              "    <g>\n",
              "        <path d=\"M19 3H5c-1.1 0-2 .9-2 2v14c0 1.1.9 2 2 2h14c1.1 0 2-.9 2-2V5c0-1.1-.9-2-2-2zM9 17H7v-7h2v7zm4 0h-2V7h2v10zm4 0h-2v-4h2v4z\"/>\n",
              "    </g>\n",
              "</svg>\n",
              "  </button>\n",
              "\n",
              "<style>\n",
              "  .colab-df-quickchart {\n",
              "      --bg-color: #E8F0FE;\n",
              "      --fill-color: #1967D2;\n",
              "      --hover-bg-color: #E2EBFA;\n",
              "      --hover-fill-color: #174EA6;\n",
              "      --disabled-fill-color: #AAA;\n",
              "      --disabled-bg-color: #DDD;\n",
              "  }\n",
              "\n",
              "  [theme=dark] .colab-df-quickchart {\n",
              "      --bg-color: #3B4455;\n",
              "      --fill-color: #D2E3FC;\n",
              "      --hover-bg-color: #434B5C;\n",
              "      --hover-fill-color: #FFFFFF;\n",
              "      --disabled-bg-color: #3B4455;\n",
              "      --disabled-fill-color: #666;\n",
              "  }\n",
              "\n",
              "  .colab-df-quickchart {\n",
              "    background-color: var(--bg-color);\n",
              "    border: none;\n",
              "    border-radius: 50%;\n",
              "    cursor: pointer;\n",
              "    display: none;\n",
              "    fill: var(--fill-color);\n",
              "    height: 32px;\n",
              "    padding: 0;\n",
              "    width: 32px;\n",
              "  }\n",
              "\n",
              "  .colab-df-quickchart:hover {\n",
              "    background-color: var(--hover-bg-color);\n",
              "    box-shadow: 0 1px 2px rgba(60, 64, 67, 0.3), 0 1px 3px 1px rgba(60, 64, 67, 0.15);\n",
              "    fill: var(--button-hover-fill-color);\n",
              "  }\n",
              "\n",
              "  .colab-df-quickchart-complete:disabled,\n",
              "  .colab-df-quickchart-complete:disabled:hover {\n",
              "    background-color: var(--disabled-bg-color);\n",
              "    fill: var(--disabled-fill-color);\n",
              "    box-shadow: none;\n",
              "  }\n",
              "\n",
              "  .colab-df-spinner {\n",
              "    border: 2px solid var(--fill-color);\n",
              "    border-color: transparent;\n",
              "    border-bottom-color: var(--fill-color);\n",
              "    animation:\n",
              "      spin 1s steps(1) infinite;\n",
              "  }\n",
              "\n",
              "  @keyframes spin {\n",
              "    0% {\n",
              "      border-color: transparent;\n",
              "      border-bottom-color: var(--fill-color);\n",
              "      border-left-color: var(--fill-color);\n",
              "    }\n",
              "    20% {\n",
              "      border-color: transparent;\n",
              "      border-left-color: var(--fill-color);\n",
              "      border-top-color: var(--fill-color);\n",
              "    }\n",
              "    30% {\n",
              "      border-color: transparent;\n",
              "      border-left-color: var(--fill-color);\n",
              "      border-top-color: var(--fill-color);\n",
              "      border-right-color: var(--fill-color);\n",
              "    }\n",
              "    40% {\n",
              "      border-color: transparent;\n",
              "      border-right-color: var(--fill-color);\n",
              "      border-top-color: var(--fill-color);\n",
              "    }\n",
              "    60% {\n",
              "      border-color: transparent;\n",
              "      border-right-color: var(--fill-color);\n",
              "    }\n",
              "    80% {\n",
              "      border-color: transparent;\n",
              "      border-right-color: var(--fill-color);\n",
              "      border-bottom-color: var(--fill-color);\n",
              "    }\n",
              "    90% {\n",
              "      border-color: transparent;\n",
              "      border-bottom-color: var(--fill-color);\n",
              "    }\n",
              "  }\n",
              "</style>\n",
              "\n",
              "  <script>\n",
              "    async function quickchart(key) {\n",
              "      const quickchartButtonEl =\n",
              "        document.querySelector('#' + key + ' button');\n",
              "      quickchartButtonEl.disabled = true;  // To prevent multiple clicks.\n",
              "      quickchartButtonEl.classList.add('colab-df-spinner');\n",
              "      try {\n",
              "        const charts = await google.colab.kernel.invokeFunction(\n",
              "            'suggestCharts', [key], {});\n",
              "      } catch (error) {\n",
              "        console.error('Error during call to suggestCharts:', error);\n",
              "      }\n",
              "      quickchartButtonEl.classList.remove('colab-df-spinner');\n",
              "      quickchartButtonEl.classList.add('colab-df-quickchart-complete');\n",
              "    }\n",
              "    (() => {\n",
              "      let quickchartButtonEl =\n",
              "        document.querySelector('#df-c82f356d-bcc3-48a4-acca-262ec2999b3c button');\n",
              "      quickchartButtonEl.style.display =\n",
              "        google.colab.kernel.accessAllowed ? 'block' : 'none';\n",
              "    })();\n",
              "  </script>\n",
              "</div>\n",
              "    </div>\n",
              "  </div>\n"
            ]
          },
          "metadata": {},
          "execution_count": 26
        }
      ]
    },
    {
      "cell_type": "code",
      "source": [
        "# Plot histograms of the amounts in fraud and non-fraud data\n",
        "plt.figure(figsize=(30,10))\n",
        "sns.boxplot(x=data.category,y=data.amount)\n",
        "plt.title(\"Boxplot for the Amount spend in category\")\n",
        "plt.ylim(0,4000)\n",
        "plt.legend()\n",
        "plt.show"
      ],
      "metadata": {
        "colab": {
          "base_uri": "https://localhost:8080/",
          "height": 758
        },
        "id": "ZY-_YuiO5OF7",
        "outputId": "cfeb752c-0e15-4644-a437-b72dd3e40221"
      },
      "execution_count": 27,
      "outputs": [
        {
          "output_type": "stream",
          "name": "stderr",
          "text": [
            "WARNING:matplotlib.legend:No artists with labels found to put in legend.  Note that artists whose label start with an underscore are ignored when legend() is called with no argument.\n"
          ]
        },
        {
          "output_type": "execute_result",
          "data": {
            "text/plain": [
              "<function matplotlib.pyplot.show(close=None, block=None)>"
            ]
          },
          "metadata": {},
          "execution_count": 27
        },
        {
          "output_type": "display_data",
          "data": {
            "text/plain": [
              "<Figure size 3000x1000 with 1 Axes>"
            ],
            "image/png": "[encoded data removed]"
          },
          "metadata": {}
        }
      ]
    },
    {
      "cell_type": "code",
      "source": [
        "# Plot histograms of the amounts in fraud and non-fraud data\n",
        "plt.hist(df_fraud.amount, alpha=0.5, label='fraud',bins=100)\n",
        "plt.hist(df_non_fraud.amount, alpha=0.5, label='nonfraud',bins=100)\n",
        "plt.title(\"Histogram for fraudulent and nonfraudulent payments\")\n",
        "plt.ylim(0,10000)\n",
        "plt.xlim(0,1000)\n",
        "plt.legend()\n",
        "plt.show()"
      ],
      "metadata": {
        "colab": {
          "base_uri": "https://localhost:8080/",
          "height": 457
        },
        "id": "p_EpHVXD5OIp",
        "outputId": "beffe6ae-3e8a-4edd-85fe-25d0f1ce3cba"
      },
      "execution_count": 28,
      "outputs": [
        {
          "output_type": "display_data",
          "data": {
            "text/plain": [
              "<Figure size 640x480 with 1 Axes>"
            ],
            "image/png": "[encoded data removed]"
          },
          "metadata": {}
        }
      ]
    },
    {
      "cell_type": "code",
      "source": [
        "print((data.groupby('age')['fraud'].mean()*100).reset_index().rename(columns={'age':'Age','fraud' : 'Fraud Percent'}).sort_values(by='Fraud Percent'))"
      ],
      "metadata": {
        "colab": {
          "base_uri": "https://localhost:8080/"
        },
        "id": "NxNT-0By5OLi",
        "outputId": "39f4eddf-eb3c-4cd3-bcf3-e9e515476399"
      },
      "execution_count": 29,
      "outputs": [
        {
          "output_type": "stream",
          "name": "stdout",
          "text": [
            "   Age  Fraud Percent\n",
            "7  'U'       0.594228\n",
            "6  '6'       0.974826\n",
            "5  '5'       1.095112\n",
            "1  '1'       1.185254\n",
            "3  '3'       1.192815\n",
            "2  '2'       1.251401\n",
            "4  '4'       1.293281\n",
            "0  '0'       1.957586\n"
          ]
        }
      ]
    },
    {
      "cell_type": "markdown",
      "source": [
        "# Data Preprocessing"
      ],
      "metadata": {
        "id": "05Eov2FY5XEm"
      }
    },
    {
      "cell_type": "code",
      "source": [
        "print(\"Unique zipCodeOri values: \",data.zipcodeOri.nunique())\n",
        "print(\"Unique zipMerchant values: \",data.zipMerchant.nunique())\n",
        "# dropping zipcodeori and zipMerchant since they have only one unique value\n",
        "data_reduced = data.drop(['zipcodeOri','zipMerchant'],axis=1)"
      ],
      "metadata": {
        "colab": {
          "base_uri": "https://localhost:8080/"
        },
        "id": "04HSZHVp5aQh",
        "outputId": "8f4b923b-0eb1-4957-ada1-d0ec6ba30feb"
      },
      "execution_count": 30,
      "outputs": [
        {
          "output_type": "stream",
          "name": "stdout",
          "text": [
            "Unique zipCodeOri values:  1\n",
            "Unique zipMerchant values:  1\n"
          ]
        }
      ]
    },
    {
      "cell_type": "code",
      "source": [
        "data_reduced.columns"
      ],
      "metadata": {
        "colab": {
          "base_uri": "https://localhost:8080/"
        },
        "id": "MGvOJBsL5cx4",
        "outputId": "d4c6af18-098a-411d-9c49-b266421b3c48"
      },
      "execution_count": 31,
      "outputs": [
        {
          "output_type": "execute_result",
          "data": {
            "text/plain": [
              "Index(['step', 'customer', 'age', 'gender', 'merchant', 'category', 'amount',\n",
              "       'fraud'],\n",
              "      dtype='object')"
            ]
          },
          "metadata": {},
          "execution_count": 31
        }
      ]
    },
    {
      "cell_type": "code",
      "source": [
        "# turning object columns type to categorical for easing the transformation process\n",
        "col_categorical = data_reduced.select_dtypes(include= ['object']).columns\n",
        "for col in col_categorical:\n",
        "    data_reduced[col] = data_reduced[col].astype('category')\n",
        "# categorical values ==> numeric values\n",
        "data_reduced[col_categorical] = data_reduced[col_categorical].apply(lambda x: x.cat.codes)\n",
        "data_reduced.head(5)"
      ],
      "metadata": {
        "colab": {
          "base_uri": "https://localhost:8080/",
          "height": 206
        },
        "id": "He_ZEJhE5e4C",
        "outputId": "c4207a9d-f6e4-4d45-ef04-352b2a37bf94"
      },
      "execution_count": 32,
      "outputs": [
        {
          "output_type": "execute_result",
          "data": {
            "text/plain": [
              "   step  customer  age  gender  merchant  category  amount  fraud\n",
              "0     0       210    4       2        30        12    4.55      0\n",
              "1     0      2753    2       2        30        12   39.68      0\n",
              "2     0      2285    4       1        18        12   26.89      0\n",
              "3     0      1650    3       2        30        12   17.25      0\n",
              "4     0      3585    5       2        30        12   35.72      0"
            ],
            "text/html": [
              "\n",
              "  <div id=\"df-1dec42b1-378c-41ef-9fa7-7f7af6c99206\" class=\"colab-df-container\">\n",
              "    <div>\n",
              "<style scoped>\n",
              "    .dataframe tbody tr th:only-of-type {\n",
              "        vertical-align: middle;\n",
              "    }\n",
              "\n",
              "    .dataframe tbody tr th {\n",
              "        vertical-align: top;\n",
              "    }\n",
              "\n",
              "    .dataframe thead th {\n",
              "        text-align: right;\n",
              "    }\n",
              "</style>\n",
              "<table border=\"1\" class=\"dataframe\">\n",
              "  <thead>\n",
              "    <tr style=\"text-align: right;\">\n",
              "      <th></th>\n",
              "      <th>step</th>\n",
              "      <th>customer</th>\n",
              "      <th>age</th>\n",
              "      <th>gender</th>\n",
              "      <th>merchant</th>\n",
              "      <th>category</th>\n",
              "      <th>amount</th>\n",
              "      <th>fraud</th>\n",
              "    </tr>\n",
              "  </thead>\n",
              "  <tbody>\n",
              "    <tr>\n",
              "      <th>0</th>\n",
              "      <td>0</td>\n",
              "      <td>210</td>\n",
              "      <td>4</td>\n",
              "      <td>2</td>\n",
              "      <td>30</td>\n",
              "      <td>12</td>\n",
              "      <td>4.55</td>\n",
              "      <td>0</td>\n",
              "    </tr>\n",
              "    <tr>\n",
              "      <th>1</th>\n",
              "      <td>0</td>\n",
              "      <td>2753</td>\n",
              "      <td>2</td>\n",
              "      <td>2</td>\n",
              "      <td>30</td>\n",
              "      <td>12</td>\n",
              "      <td>39.68</td>\n",
              "      <td>0</td>\n",
              "    </tr>\n",
              "    <tr>\n",
              "      <th>2</th>\n",
              "      <td>0</td>\n",
              "      <td>2285</td>\n",
              "      <td>4</td>\n",
              "      <td>1</td>\n",
              "      <td>18</td>\n",
              "      <td>12</td>\n",
              "      <td>26.89</td>\n",
              "      <td>0</td>\n",
              "    </tr>\n",
              "    <tr>\n",
              "      <th>3</th>\n",
              "      <td>0</td>\n",
              "      <td>1650</td>\n",
              "      <td>3</td>\n",
              "      <td>2</td>\n",
              "      <td>30</td>\n",
              "      <td>12</td>\n",
              "      <td>17.25</td>\n",
              "      <td>0</td>\n",
              "    </tr>\n",
              "    <tr>\n",
              "      <th>4</th>\n",
              "      <td>0</td>\n",
              "      <td>3585</td>\n",
              "      <td>5</td>\n",
              "      <td>2</td>\n",
              "      <td>30</td>\n",
              "      <td>12</td>\n",
              "      <td>35.72</td>\n",
              "      <td>0</td>\n",
              "    </tr>\n",
              "  </tbody>\n",
              "</table>\n",
              "</div>\n",
              "    <div class=\"colab-df-buttons\">\n",
              "\n",
              "  <div class=\"colab-df-container\">\n",
              "    <button class=\"colab-df-convert\" onclick=\"convertToInteractive('df-1dec42b1-378c-41ef-9fa7-7f7af6c99206')\"\n",
              "            title=\"Convert this dataframe to an interactive table.\"\n",
              "            style=\"display:none;\">\n",
              "\n",
              "  <svg xmlns=\"http://www.w3.org/2000/svg\" height=\"24px\" viewBox=\"0 -960 960 960\">\n",
              "    <path d=\"M120-120v-720h720v720H120Zm60-500h600v-160H180v160Zm220 220h160v-160H400v160Zm0 220h160v-160H400v160ZM180-400h160v-160H180v160Zm440 0h160v-160H620v160ZM180-180h160v-160H180v160Zm440 0h160v-160H620v160Z\"/>\n",
              "  </svg>\n",
              "    </button>\n",
              "\n",
              "  <style>\n",
              "    .colab-df-container {\n",
              "      display:flex;\n",
              "      gap: 12px;\n",
              "    }\n",
              "\n",
              "    .colab-df-convert {\n",
              "      background-color: #E8F0FE;\n",
              "      border: none;\n",
              "      border-radius: 50%;\n",
              "      cursor: pointer;\n",
              "      display: none;\n",
              "      fill: #1967D2;\n",
              "      height: 32px;\n",
              "      padding: 0 0 0 0;\n",
              "      width: 32px;\n",
              "    }\n",
              "\n",
              "    .colab-df-convert:hover {\n",
              "      background-color: #E2EBFA;\n",
              "      box-shadow: 0px 1px 2px rgba(60, 64, 67, 0.3), 0px 1px 3px 1px rgba(60, 64, 67, 0.15);\n",
              "      fill: #174EA6;\n",
              "    }\n",
              "\n",
              "    .colab-df-buttons div {\n",
              "      margin-bottom: 4px;\n",
              "    }\n",
              "\n",
              "    [theme=dark] .colab-df-convert {\n",
              "      background-color: #3B4455;\n",
              "      fill: #D2E3FC;\n",
              "    }\n",
              "\n",
              "    [theme=dark] .colab-df-convert:hover {\n",
              "      background-color: #434B5C;\n",
              "      box-shadow: 0px 1px 3px 1px rgba(0, 0, 0, 0.15);\n",
              "      filter: drop-shadow(0px 1px 2px rgba(0, 0, 0, 0.3));\n",
              "      fill: #FFFFFF;\n",
              "    }\n",
              "  </style>\n",
              "\n",
              "    <script>\n",
              "      const buttonEl =\n",
              "        document.querySelector('#df-1dec42b1-378c-41ef-9fa7-7f7af6c99206 button.colab-df-convert');\n",
              "      buttonEl.style.display =\n",
              "        google.colab.kernel.accessAllowed ? 'block' : 'none';\n",
              "\n",
              "      async function convertToInteractive(key) {\n",
              "        const element = document.querySelector('#df-1dec42b1-378c-41ef-9fa7-7f7af6c99206');\n",
              "        const dataTable =\n",
              "          await google.colab.kernel.invokeFunction('convertToInteractive',\n",
              "                                                    [key], {});\n",
              "        if (!dataTable) return;\n",
              "\n",
              "        const docLinkHtml = 'Like what you see? Visit the ' +\n",
              "          '<a target=\"_blank\" href=https://colab.research.google.com/notebooks/data_table.ipynb>data table notebook</a>'\n",
              "          + ' to learn more about interactive tables.';\n",
              "        element.innerHTML = '';\n",
              "        dataTable['output_type'] = 'display_data';\n",
              "        await google.colab.output.renderOutput(dataTable, element);\n",
              "        const docLink = document.createElement('div');\n",
              "        docLink.innerHTML = docLinkHtml;\n",
              "        element.appendChild(docLink);\n",
              "      }\n",
              "    </script>\n",
              "  </div>\n",
              "\n",
              "\n",
              "<div id=\"df-2bec961d-32fb-48d2-a32b-0429f354f092\">\n",
              "  <button class=\"colab-df-quickchart\" onclick=\"quickchart('df-2bec961d-32fb-48d2-a32b-0429f354f092')\"\n",
              "            title=\"Suggest charts\"\n",
              "            style=\"display:none;\">\n",
              "\n",
              "<svg xmlns=\"http://www.w3.org/2000/svg\" height=\"24px\"viewBox=\"0 0 24 24\"\n",
              "     width=\"24px\">\n",
              "    <g>\n",
              "        <path d=\"M19 3H5c-1.1 0-2 .9-2 2v14c0 1.1.9 2 2 2h14c1.1 0 2-.9 2-2V5c0-1.1-.9-2-2-2zM9 17H7v-7h2v7zm4 0h-2V7h2v10zm4 0h-2v-4h2v4z\"/>\n",
              "    </g>\n",
              "</svg>\n",
              "  </button>\n",
              "\n",
              "<style>\n",
              "  .colab-df-quickchart {\n",
              "      --bg-color: #E8F0FE;\n",
              "      --fill-color: #1967D2;\n",
              "      --hover-bg-color: #E2EBFA;\n",
              "      --hover-fill-color: #174EA6;\n",
              "      --disabled-fill-color: #AAA;\n",
              "      --disabled-bg-color: #DDD;\n",
              "  }\n",
              "\n",
              "  [theme=dark] .colab-df-quickchart {\n",
              "      --bg-color: #3B4455;\n",
              "      --fill-color: #D2E3FC;\n",
              "      --hover-bg-color: #434B5C;\n",
              "      --hover-fill-color: #FFFFFF;\n",
              "      --disabled-bg-color: #3B4455;\n",
              "      --disabled-fill-color: #666;\n",
              "  }\n",
              "\n",
              "  .colab-df-quickchart {\n",
              "    background-color: var(--bg-color);\n",
              "    border: none;\n",
              "    border-radius: 50%;\n",
              "    cursor: pointer;\n",
              "    display: none;\n",
              "    fill: var(--fill-color);\n",
              "    height: 32px;\n",
              "    padding: 0;\n",
              "    width: 32px;\n",
              "  }\n",
              "\n",
              "  .colab-df-quickchart:hover {\n",
              "    background-color: var(--hover-bg-color);\n",
              "    box-shadow: 0 1px 2px rgba(60, 64, 67, 0.3), 0 1px 3px 1px rgba(60, 64, 67, 0.15);\n",
              "    fill: var(--button-hover-fill-color);\n",
              "  }\n",
              "\n",
              "  .colab-df-quickchart-complete:disabled,\n",
              "  .colab-df-quickchart-complete:disabled:hover {\n",
              "    background-color: var(--disabled-bg-color);\n",
              "    fill: var(--disabled-fill-color);\n",
              "    box-shadow: none;\n",
              "  }\n",
              "\n",
              "  .colab-df-spinner {\n",
              "    border: 2px solid var(--fill-color);\n",
              "    border-color: transparent;\n",
              "    border-bottom-color: var(--fill-color);\n",
              "    animation:\n",
              "      spin 1s steps(1) infinite;\n",
              "  }\n",
              "\n",
              "  @keyframes spin {\n",
              "    0% {\n",
              "      border-color: transparent;\n",
              "      border-bottom-color: var(--fill-color);\n",
              "      border-left-color: var(--fill-color);\n",
              "    }\n",
              "    20% {\n",
              "      border-color: transparent;\n",
              "      border-left-color: var(--fill-color);\n",
              "      border-top-color: var(--fill-color);\n",
              "    }\n",
              "    30% {\n",
              "      border-color: transparent;\n",
              "      border-left-color: var(--fill-color);\n",
              "      border-top-color: var(--fill-color);\n",
              "      border-right-color: var(--fill-color);\n",
              "    }\n",
              "    40% {\n",
              "      border-color: transparent;\n",
              "      border-right-color: var(--fill-color);\n",
              "      border-top-color: var(--fill-color);\n",
              "    }\n",
              "    60% {\n",
              "      border-color: transparent;\n",
              "      border-right-color: var(--fill-color);\n",
              "    }\n",
              "    80% {\n",
              "      border-color: transparent;\n",
              "      border-right-color: var(--fill-color);\n",
              "      border-bottom-color: var(--fill-color);\n",
              "    }\n",
              "    90% {\n",
              "      border-color: transparent;\n",
              "      border-bottom-color: var(--fill-color);\n",
              "    }\n",
              "  }\n",
              "</style>\n",
              "\n",
              "  <script>\n",
              "    async function quickchart(key) {\n",
              "      const quickchartButtonEl =\n",
              "        document.querySelector('#' + key + ' button');\n",
              "      quickchartButtonEl.disabled = true;  // To prevent multiple clicks.\n",
              "      quickchartButtonEl.classList.add('colab-df-spinner');\n",
              "      try {\n",
              "        const charts = await google.colab.kernel.invokeFunction(\n",
              "            'suggestCharts', [key], {});\n",
              "      } catch (error) {\n",
              "        console.error('Error during call to suggestCharts:', error);\n",
              "      }\n",
              "      quickchartButtonEl.classList.remove('colab-df-spinner');\n",
              "      quickchartButtonEl.classList.add('colab-df-quickchart-complete');\n",
              "    }\n",
              "    (() => {\n",
              "      let quickchartButtonEl =\n",
              "        document.querySelector('#df-2bec961d-32fb-48d2-a32b-0429f354f092 button');\n",
              "      quickchartButtonEl.style.display =\n",
              "        google.colab.kernel.accessAllowed ? 'block' : 'none';\n",
              "    })();\n",
              "  </script>\n",
              "</div>\n",
              "    </div>\n",
              "  </div>\n"
            ]
          },
          "metadata": {},
          "execution_count": 32
        }
      ]
    },
    {
      "cell_type": "code",
      "source": [
        "X = data_reduced.drop(['fraud'],axis=1)\n",
        "y = data['fraud']\n",
        "print(X.head(),\"\\n\")\n",
        "print(y.head())"
      ],
      "metadata": {
        "colab": {
          "base_uri": "https://localhost:8080/"
        },
        "id": "oqD4IWdF5io-",
        "outputId": "c73559e7-e10c-4aee-eaad-55910f790209"
      },
      "execution_count": 33,
      "outputs": [
        {
          "output_type": "stream",
          "name": "stdout",
          "text": [
            "   step  customer  age  gender  merchant  category  amount\n",
            "0     0       210    4       2        30        12    4.55\n",
            "1     0      2753    2       2        30        12   39.68\n",
            "2     0      2285    4       1        18        12   26.89\n",
            "3     0      1650    3       2        30        12   17.25\n",
            "4     0      3585    5       2        30        12   35.72 \n",
            "\n",
            "0    0\n",
            "1    0\n",
            "2    0\n",
            "3    0\n",
            "4    0\n",
            "Name: fraud, dtype: int64\n"
          ]
        }
      ]
    },
    {
      "cell_type": "code",
      "source": [
        "y[y==1].count()"
      ],
      "metadata": {
        "colab": {
          "base_uri": "https://localhost:8080/"
        },
        "id": "OeBwlwcW5jBk",
        "outputId": "792a47c3-ed8c-46ec-addb-536d0b1498c6"
      },
      "execution_count": 34,
      "outputs": [
        {
          "output_type": "execute_result",
          "data": {
            "text/plain": [
              "7200"
            ]
          },
          "metadata": {},
          "execution_count": 34
        }
      ]
    },
    {
      "cell_type": "markdown",
      "source": [
        "# Oversampling with SMOTE"
      ],
      "metadata": {
        "id": "dzI_YrkO5lv2"
      }
    },
    {
      "cell_type": "code",
      "source": [
        "print(type(y_res))\n"
      ],
      "metadata": {
        "colab": {
          "base_uri": "https://localhost:8080/"
        },
        "id": "ReRkDj-C6Irf",
        "outputId": "60e3e027-8d46-4e1b-deba-4aecdbcb008c"
      },
      "execution_count": 36,
      "outputs": [
        {
          "output_type": "stream",
          "name": "stdout",
          "text": [
            "<class 'pandas.core.frame.DataFrame'>\n"
          ]
        }
      ]
    },
    {
      "cell_type": "code",
      "source": [
        "print(y_res.head())\n"
      ],
      "metadata": {
        "colab": {
          "base_uri": "https://localhost:8080/"
        },
        "id": "jvMl-KyJ6KsH",
        "outputId": "e739488c-36d4-4d68-bf79-93f6ea3d13f4"
      },
      "execution_count": 37,
      "outputs": [
        {
          "output_type": "stream",
          "name": "stdout",
          "text": [
            "   fraud\n",
            "0      0\n",
            "1      0\n",
            "2      0\n",
            "3      0\n",
            "4      0\n"
          ]
        }
      ]
    },
    {
      "cell_type": "code",
      "source": [
        "y_res = pd.DataFrame(y_res, columns=['target'])\n"
      ],
      "metadata": {
        "id": "jINaCvHd6MDB"
      },
      "execution_count": 38,
      "outputs": []
    },
    {
      "cell_type": "code",
      "source": [
        "print(y_res['target'].value_counts())\n"
      ],
      "metadata": {
        "colab": {
          "base_uri": "https://localhost:8080/"
        },
        "id": "k8Vid-el6N5f",
        "outputId": "00243f9c-b442-4d8a-bb95-1f7803635f64"
      },
      "execution_count": 39,
      "outputs": [
        {
          "output_type": "stream",
          "name": "stdout",
          "text": [
            "Series([], Name: target, dtype: int64)\n"
          ]
        }
      ]
    },
    {
      "cell_type": "code",
      "source": [
        "sm = SMOTE(random_state=42)\n",
        "X_res, y_res = sm.fit_resample(X, y)\n",
        "y_res = pd.DataFrame(y_res)\n",
        "print(y_res['fraud'].value_counts())\n"
      ],
      "metadata": {
        "colab": {
          "base_uri": "https://localhost:8080/"
        },
        "id": "aWbuwy8r5lG1",
        "outputId": "098d2561-a60b-493b-d082-e2390c125570"
      },
      "execution_count": 40,
      "outputs": [
        {
          "output_type": "stream",
          "name": "stdout",
          "text": [
            "0    587443\n",
            "1    587443\n",
            "Name: fraud, dtype: int64\n"
          ]
        }
      ]
    },
    {
      "cell_type": "code",
      "source": [
        "X_train, X_test, y_train, y_test = train_test_split(X_res,y_res,test_size=0.3,random_state=42,shuffle=True,stratify=y_res)"
      ],
      "metadata": {
        "id": "UUqilB_K5qWD"
      },
      "execution_count": 41,
      "outputs": []
    },
    {
      "cell_type": "code",
      "source": [
        "# %% Function for plotting ROC_AUC curve\n",
        "\n",
        "def plot_roc_auc(y_test, preds):\n",
        "    '''\n",
        "    Takes actual and predicted(probabilities) as input and plots the Receiver\n",
        "    Operating Characteristic (ROC) curve\n",
        "    '''\n",
        "    fpr, tpr, threshold = roc_curve(y_test, preds)\n",
        "    roc_auc = auc(fpr, tpr)\n",
        "    plt.title('Receiver Operating Characteristic')\n",
        "    plt.plot(fpr, tpr, 'b', label = 'AUC = %0.2f' % roc_auc)\n",
        "    plt.legend(loc = 'lower right')\n",
        "    plt.plot([0, 1], [0, 1],'r--')\n",
        "    plt.xlim([0, 1])\n",
        "    plt.ylim([0, 1])\n",
        "    plt.ylabel('True Positive Rate')\n",
        "    plt.xlabel('False Positive Rate')\n",
        "    plt.show()\n"
      ],
      "metadata": {
        "id": "9foiYqVP54uJ"
      },
      "execution_count": 42,
      "outputs": []
    },
    {
      "cell_type": "code",
      "source": [
        "# The base score should be better than predicting always non-fraduelent\n",
        "print(\"Base accuracy score we must beat is: \",\n",
        "      df_non_fraud.fraud.count()/ np.add(df_non_fraud.fraud.count(),df_fraud.fraud.count()) * 100)"
      ],
      "metadata": {
        "colab": {
          "base_uri": "https://localhost:8080/"
        },
        "id": "JP-_ekA-54w2",
        "outputId": "48679836-582b-43e3-9012-101554336e7c"
      },
      "execution_count": 43,
      "outputs": [
        {
          "output_type": "stream",
          "name": "stdout",
          "text": [
            "Base accuracy score we must beat is:  98.7891894800746\n"
          ]
        }
      ]
    },
    {
      "cell_type": "markdown",
      "source": [
        "# K-Neighbours Classifier"
      ],
      "metadata": {
        "id": "Kz_ysuoz6mWa"
      }
    },
    {
      "cell_type": "code",
      "source": [
        "knn = KNeighborsClassifier(n_neighbors=5,p=1)\n",
        "\n",
        "knn.fit(X_train,y_train)\n",
        "y_pred = knn.predict(X_test)\n",
        "\n",
        "\n",
        "print(\"Classification Report for K-Nearest Neighbours: \\n\", classification_report(y_test, y_pred))\n",
        "print(\"Confusion Matrix of K-Nearest Neigbours: \\n\", confusion_matrix(y_test,y_pred))\n",
        "plot_roc_auc(y_test, knn.predict_proba(X_test)[:,1])"
      ],
      "metadata": {
        "colab": {
          "base_uri": "https://localhost:8080/",
          "height": 775
        },
        "id": "ajUH8BGW6kNL",
        "outputId": "69407337-d5a9-442b-dbd2-8e3b74d5dd54"
      },
      "execution_count": 44,
      "outputs": [
        {
          "output_type": "stream",
          "name": "stderr",
          "text": [
            "/usr/local/lib/python3.10/dist-packages/sklearn/neighbors/_classification.py:215: DataConversionWarning:\n",
            "\n",
            "A column-vector y was passed when a 1d array was expected. Please change the shape of y to (n_samples,), for example using ravel().\n",
            "\n"
          ]
        },
        {
          "output_type": "stream",
          "name": "stdout",
          "text": [
            "Classification Report for K-Nearest Neighbours: \n",
            "               precision    recall  f1-score   support\n",
            "\n",
            "           0       1.00      0.98      0.99    176233\n",
            "           1       0.98      1.00      0.99    176233\n",
            "\n",
            "    accuracy                           0.99    352466\n",
            "   macro avg       0.99      0.99      0.99    352466\n",
            "weighted avg       0.99      0.99      0.99    352466\n",
            "\n",
            "Confusion Matrix of K-Nearest Neigbours: \n",
            " [[171999   4234]\n",
            " [   362 175871]]\n"
          ]
        },
        {
          "output_type": "display_data",
          "data": {
            "text/plain": [
              "<Figure size 640x480 with 1 Axes>"
            ],
            "image/png": "[encoded data removed]"
          },
          "metadata": {}
        }
      ]
    },
    {
      "cell_type": "markdown",
      "source": [
        "# Random Forest Classifier"
      ],
      "metadata": {
        "id": "P3vIu10x6r1M"
      }
    },
    {
      "cell_type": "code",
      "source": [
        "rf_clf = RandomForestClassifier(n_estimators=100,max_depth=8,random_state=42,\n",
        "                                verbose=1,class_weight=\"balanced\")\n",
        "\n",
        "rf_clf.fit(X_train,y_train)\n",
        "y_pred = rf_clf.predict(X_test)\n",
        "\n",
        "print(\"Classification Report for Random Forest Classifier: \\n\", classification_report(y_test, y_pred))\n",
        "print(\"Confusion Matrix of Random Forest Classifier: \\n\", confusion_matrix(y_test,y_pred))\n",
        "plot_roc_auc(y_test, rf_clf.predict_proba(X_test)[:,1])"
      ],
      "metadata": {
        "colab": {
          "base_uri": "https://localhost:8080/",
          "height": 827
        },
        "id": "F9IIlTkO6pxm",
        "outputId": "0640e386-d647-4240-a1be-ab1b7bb266c6"
      },
      "execution_count": 45,
      "outputs": [
        {
          "output_type": "stream",
          "name": "stderr",
          "text": [
            "<ipython-input-45-a68623b6ca66>:4: DataConversionWarning:\n",
            "\n",
            "A column-vector y was passed when a 1d array was expected. Please change the shape of y to (n_samples,), for example using ravel().\n",
            "\n",
            "[Parallel(n_jobs=1)]: Done  49 tasks      | elapsed:   47.4s\n",
            "[Parallel(n_jobs=1)]: Done  49 tasks      | elapsed:    1.4s\n"
          ]
        },
        {
          "output_type": "stream",
          "name": "stdout",
          "text": [
            "Classification Report for Random Forest Classifier: \n",
            "               precision    recall  f1-score   support\n",
            "\n",
            "           0       0.99      0.97      0.98    176233\n",
            "           1       0.97      0.99      0.98    176233\n",
            "\n",
            "    accuracy                           0.98    352466\n",
            "   macro avg       0.98      0.98      0.98    352466\n",
            "weighted avg       0.98      0.98      0.98    352466\n",
            "\n",
            "Confusion Matrix of Random Forest Classifier: \n",
            " [[170106   6127]\n",
            " [  1079 175154]]\n"
          ]
        },
        {
          "output_type": "stream",
          "name": "stderr",
          "text": [
            "[Parallel(n_jobs=1)]: Done  49 tasks      | elapsed:    1.4s\n"
          ]
        },
        {
          "output_type": "display_data",
          "data": {
            "text/plain": [
              "<Figure size 640x480 with 1 Axes>"
            ],
            "image/png": "[encoded data removed]"
          },
          "metadata": {}
        }
      ]
    },
    {
      "cell_type": "markdown",
      "source": [
        "# XGBoost Classifier"
      ],
      "metadata": {
        "id": "2iCtAMP56xVy"
      }
    },
    {
      "cell_type": "code",
      "source": [
        "XGBoost_CLF = xgb.XGBClassifier(max_depth=6, learning_rate=0.05, n_estimators=400,\n",
        "                                objective=\"binary:hinge\", booster='gbtree',\n",
        "                                n_jobs=-1, nthread=None, gamma=0, min_child_weight=1, max_delta_step=0,\n",
        "                                subsample=1, colsample_bytree=1, colsample_bylevel=1, reg_alpha=0, reg_lambda=1,\n",
        "                                scale_pos_weight=1, base_score=0.5, random_state=42, verbosity=1)\n",
        "\n",
        "\n",
        "XGBoost_CLF.fit(X_train,y_train)\n",
        "\n",
        "y_pred = XGBoost_CLF.predict(X_test)\n",
        "\n",
        "print(\"Classification Report for XGBoost: \\n\", classification_report(y_test, y_pred))\n",
        "print(\"Confusion Matrix of XGBoost: \\n\", confusion_matrix(y_test,y_pred))\n",
        "plot_roc_auc(y_test, XGBoost_CLF.predict_proba(X_test)[:,1])"
      ],
      "metadata": {
        "colab": {
          "base_uri": "https://localhost:8080/",
          "height": 810
        },
        "id": "VUoN4s2A6xzw",
        "outputId": "cd3a3ef9-fcdb-41b4-c3fa-cdb73d23b87c"
      },
      "execution_count": 47,
      "outputs": [
        {
          "output_type": "stream",
          "name": "stderr",
          "text": [
            "/usr/local/lib/python3.10/dist-packages/xgboost/core.py:160: UserWarning:\n",
            "\n",
            "[01:11:59] WARNING: /workspace/src/learner.cc:742: \n",
            "Parameters: { \"scale_pos_weight\" } are not used.\n",
            "\n",
            "\n"
          ]
        },
        {
          "output_type": "stream",
          "name": "stdout",
          "text": [
            "Classification Report for XGBoost: \n",
            "               precision    recall  f1-score   support\n",
            "\n",
            "           0       1.00      0.99      0.99    176233\n",
            "           1       0.99      1.00      0.99    176233\n",
            "\n",
            "    accuracy                           0.99    352466\n",
            "   macro avg       0.99      0.99      0.99    352466\n",
            "weighted avg       0.99      0.99      0.99    352466\n",
            "\n",
            "Confusion Matrix of XGBoost: \n",
            " [[174100   2133]\n",
            " [   787 175446]]\n"
          ]
        },
        {
          "output_type": "display_data",
          "data": {
            "text/plain": [
              "<Figure size 640x480 with 1 Axes>"
            ],
            "image/png": "[encoded data removed]"
          },
          "metadata": {}
        }
      ]
    },
    {
      "cell_type": "markdown",
      "source": [
        "# Conclusion\n",
        "In this kernel we have tried to do fraud detection on a bank payment data and we have achieved remarkable results with our classifiers. Since fraud datasets have an imbalance class problem we performed an oversampling technique called SMOTE and generated new minority class examples. I haven't put the classification results without SMOTE here but i added them in my github repo before so if you are interested to compare both results you can also check my github repo.\n",
        "\n",
        "Thanks for taking the time to read or just view the results from my first kernel i hope you enjoyed it. I would be grateful for any kind of critique, suggestion or comment and i wish you to have a great day with lots of beautiful data!"
      ],
      "metadata": {
        "id": "C9Gq-l0862xg"
      }
    }
  ]
}